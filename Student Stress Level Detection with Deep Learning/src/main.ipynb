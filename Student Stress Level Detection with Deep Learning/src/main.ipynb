{
 "cells": [
  {
   "cell_type": "code",
   "execution_count": 149,
   "metadata": {},
   "outputs": [],
   "source": [
    "import numpy as np\n",
    "import pandas as pd\n",
    "import matplotlib.pyplot as plt\n",
    "from sklearn.model_selection import train_test_split\n",
    "from sklearn.linear_model import LogisticRegression\n",
    "from sklearn.metrics import accuracy_score, precision_score, recall_score, f1_score, confusion_matrix\n",
    "import seaborn as sns"
   ]
  },
  {
   "cell_type": "markdown",
   "metadata": {},
   "source": [
    "Splitting files 0.2 test 0.8 train ( 0.2 validation 0.8 train) so in aggregate 0.2 test 0.16 val 0.64 train"
   ]
  },
  {
   "cell_type": "code",
   "execution_count": 150,
   "metadata": {},
   "outputs": [],
   "source": [
    "df = pd.read_csv(\"data.csv\")\n",
    "\n",
    "x = df.drop(columns=\"sl\")\n",
    "y = df[\"sl\"].copy()\n",
    "\n",
    "x_train, x_test, y_train, y_test = train_test_split(x,y,test_size=0.2) \n",
    "x_train, x_val, y_train, y_val = train_test_split(x_train, y_train, test_size=0.2)\n",
    "\n",
    "df_train = pd.concat([x_train,y_train], axis=1).dropna()\n",
    "df_val = pd.concat([x_val,y_val],axis=1).dropna()\n",
    "df_test = pd.concat([x_test,y_test],axis=1).dropna()\n",
    "\n",
    "bois = [df_train,df_val,df_test]"
   ]
  },
  {
   "cell_type": "code",
   "execution_count": 151,
   "metadata": {},
   "outputs": [
    {
     "name": "stdout",
     "output_type": "stream",
     "text": [
      "        sr      rr       t      lm      bo    rem   sr.1     hr  sl\n",
      "232  57.44  19.488  95.488   9.488  94.232  83.72  6.488  58.72   1\n",
      "170  59.60  19.920  95.920   9.920  94.880  84.80  6.920  59.80   1\n",
      "135  48.56  17.424  98.136   6.848  96.424  74.24  8.424  53.56   0\n",
      "310  85.04  23.344  90.672  13.680  88.672  96.68  0.672  68.36   3\n",
      "212  45.48  16.192  96.288   4.384  95.192  61.92  7.192  50.48   0\n",
      "         sr      rr       t      lm      bo     rem   sr.1     hr  sl\n",
      "339  89.120  24.432  91.216  15.040  89.216   98.04  1.216  71.08   3\n",
      "411  97.856  27.856  87.320  17.928  84.784  102.32  0.000  79.64   4\n",
      "288  88.280  24.208  91.104  14.760  89.104   97.76  1.104  70.52   3\n",
      "200  46.360  16.544  96.816   5.088  95.544   65.44  7.544  51.36   0\n",
      "142  78.400  21.840  93.840  11.840  91.840   94.20  4.760  64.60   2\n",
      "        sr      rr       t      lm      bo    rem   sr.1     hr  sl\n",
      "600  93.56  25.616  91.808  16.520  89.808  99.52  1.808  74.04   3\n",
      "561  49.48  17.792  98.688   7.584  96.792  77.92  8.792  54.48   0\n",
      "591  47.56  17.024  97.536   6.048  96.024  70.24  8.024  52.56   0\n",
      "213  48.72  17.488  98.232   6.976  96.488  74.88  8.488  53.72   0\n",
      "597  45.64  16.256  96.384   4.512  95.256  62.56  7.256  50.64   0\n"
     ]
    }
   ],
   "source": [
    "print(df_train.head())\n",
    "print(df_val.head())\n",
    "print(df_test.head())"
   ]
  },
  {
   "cell_type": "code",
   "execution_count": 152,
   "metadata": {},
   "outputs": [
    {
     "name": "stdout",
     "output_type": "stream",
     "text": [
      "Empty DataFrame\n",
      "Columns: [sr, rr, t, lm, bo, rem, sr.1, hr, sl]\n",
      "Index: []\n",
      "Empty DataFrame\n",
      "Columns: [sr, rr, t, lm, bo, rem, sr.1, hr, sl]\n",
      "Index: []\n",
      "Empty DataFrame\n",
      "Columns: [sr, rr, t, lm, bo, rem, sr.1, hr, sl]\n",
      "Index: []\n",
      "sr      0\n",
      "rr      0\n",
      "t       0\n",
      "lm      0\n",
      "bo      0\n",
      "rem     0\n",
      "sr.1    0\n",
      "hr      0\n",
      "sl      0\n",
      "dtype: int64\n",
      "sr      0\n",
      "rr      0\n",
      "t       0\n",
      "lm      0\n",
      "bo      0\n",
      "rem     0\n",
      "sr.1    0\n",
      "hr      0\n",
      "sl      0\n",
      "dtype: int64\n",
      "sr      0\n",
      "rr      0\n",
      "t       0\n",
      "lm      0\n",
      "bo      0\n",
      "rem     0\n",
      "sr.1    0\n",
      "hr      0\n",
      "sl      0\n",
      "dtype: int64\n"
     ]
    },
    {
     "data": {
      "text/plain": [
       "<AxesSubplot:>"
      ]
     },
     "execution_count": 152,
     "metadata": {},
     "output_type": "execute_result"
    },
    {
     "data": {
      "image/png": "[encoded data removed]",
      "text/plain": [
       "<Figure size 432x288 with 1 Axes>"
      ]
     },
     "metadata": {
      "needs_background": "light"
     },
     "output_type": "display_data"
    }
   ],
   "source": [
    "for elements in bois:\n",
    "  print(elements[elements.duplicated()])\n",
    "\n",
    "for df in bois:\n",
    "  print(df.isnull().sum())\n",
    "\n",
    "sns.boxplot(data=df)"
   ]
  },
  {
   "cell_type": "code",
   "execution_count": 153,
   "metadata": {},
   "outputs": [
    {
     "data": {
      "image/png": "[encoded data removed]",
      "text/plain": [
       "<Figure size 360x288 with 2 Axes>"
      ]
     },
     "metadata": {},
     "output_type": "display_data"
    },
    {
     "data": {
      "image/png": "[encoded data removed]",
      "text/plain": [
       "<Figure size 360x288 with 2 Axes>"
      ]
     },
     "metadata": {
      "needs_background": "light"
     },
     "output_type": "display_data"
    }
   ],
   "source": [
    "corr = (df.corr())\n",
    "f, ax = plt.subplots(figsize=(5,4))\n",
    "display((sns.heatmap(corr, vmax=.8, square=True)).figure)"
   ]
  },
  {
   "cell_type": "markdown",
   "metadata": {},
   "source": []
  },
  {
   "cell_type": "code",
   "execution_count": 154,
   "metadata": {},
   "outputs": [
    {
     "data": {
      "text/plain": [
       "LogisticRegression(max_iter=10000, random_state=0)"
      ]
     },
     "execution_count": 154,
     "metadata": {},
     "output_type": "execute_result"
    }
   ],
   "source": [
    "model = LogisticRegression(random_state=0, max_iter=10000)\n",
    "model.fit(x_train.values, y_train)"
   ]
  },
  {
   "cell_type": "code",
   "execution_count": 155,
   "metadata": {},
   "outputs": [],
   "source": [
    "y_pred_baseline = model.predict(x_val.values)"
   ]
  },
  {
   "cell_type": "code",
   "execution_count": 156,
   "metadata": {},
   "outputs": [
    {
     "name": "stdout",
     "output_type": "stream",
     "text": [
      "1.0\n",
      "4\n",
      "1.0\n",
      "1.0\n",
      "1.0\n",
      "[[18  0  0  0  0]\n",
      " [ 0 18  0  0  0]\n",
      " [ 0  0 24  0  0]\n",
      " [ 0  0  0 23  0]\n",
      " [ 0  0  0  0 18]]\n"
     ]
    }
   ],
   "source": [
    "print(accuracy_score(y_pred_baseline, y_val))\n",
    "print(y_pred_baseline[1])\n",
    "\n",
    "print(precision_score(y_pred_baseline, y_val, average=\"micro\"))\n",
    "print(recall_score(y_pred_baseline, y_val, average=\"micro\"))\n",
    "print(f1_score(y_pred_baseline, y_val, average=\"micro\"))\n",
    "print(confusion_matrix(y_pred_baseline, y_val))"
   ]
  },
  {
   "cell_type": "code",
   "execution_count": 157,
   "metadata": {},
   "outputs": [
    {
     "name": "stdout",
     "output_type": "stream",
     "text": [
      "         sr      rr       t      lm      bo     rem   sr.1     hr\n",
      "339  89.120  24.432  91.216  15.040  89.216   98.04  1.216  71.08\n",
      "411  97.856  27.856  87.320  17.928  84.784  102.32  0.000  79.64\n",
      "288  88.280  24.208  91.104  14.760  89.104   97.76  1.104  70.52\n",
      "200  46.360  16.544  96.816   5.088  95.544   65.44  7.544  51.36\n",
      "142  78.400  21.840  93.840  11.840  91.840   94.20  4.760  64.60\n",
      "..      ...     ...     ...     ...     ...     ...    ...    ...\n",
      "385  47.320  16.928  97.392   5.856  95.928   69.28  7.928  52.32\n",
      "420  52.160  18.432  94.432   8.432  92.648   81.08  5.432  56.08\n",
      "55   75.680  21.568  93.568  11.568  91.568   92.84  4.352  63.92\n",
      "448  66.240  20.624  92.624  10.624  90.624   88.12  2.936  61.56\n",
      "400  80.360  22.096  90.048  12.120  88.048   95.12  0.048  65.24\n",
      "\n",
      "[101 rows x 8 columns]\n",
      "[3 4 3 0 2 3 4 4 2 4 4 0 3 3 0 1 0 4 1 3 2 1 2 1 3 2 2 0 2 3 4 2 1 4 2 3 1\n",
      " 1 4 3 4 2 4 1 1 4 0 1 3 0 2 2 0 3 3 2 0 2 0 3 3 3 1 3 0 4 2 4 4 1 1 3 3 1\n",
      " 1 0 3 0 2 1 0 1 0 2 2 4 2 3 4 4 2 0 2 0 3 2 0 1 2 2 3]\n",
      "PREDICTION : [3]\n"
     ]
    }
   ],
   "source": [
    "# print(len(x_val))\n",
    "# x_val = x_val.append([[93.8,25.68,91.84,16.6,89.84,99.6,1.84,74.2]])\n",
    "print(x_val)\n",
    "print(y_pred_baseline)\n",
    "print(\"PREDICTION : \"+str(model.predict([[93.8,25.68,91.84,16.6,89.84,99.6,1.84,74.2]])))"
   ]
  },
  {
   "cell_type": "code",
   "execution_count": 163,
   "metadata": {},
   "outputs": [
    {
     "name": "stdout",
     "output_type": "stream",
     "text": [
      "[4]\n"
     ]
    }
   ],
   "source": [
    "data_input = [[99.904,29.904,89.88,18.952,87.856,104.88,0,84.76]]\n",
    "# print(data_input)\n",
    "print(model.predict(data_input))"
   ]
  }
 ],
 "metadata": {
  "interpreter": {
   "hash": "f5743fd7b9c71ce376188bcf585e6c939135b50f10a33a2b9306b42ec980e4bb"
  },
  "kernelspec": {
   "display_name": "Python 3.10.2 64-bit",
   "language": "python",
   "name": "python3"
  },
  "language_info": {
   "codemirror_mode": {
    "name": "ipython",
    "version": 3
   },
   "file_extension": ".py",
   "mimetype": "text/x-python",
   "name": "python",
   "nbconvert_exporter": "python",
   "pygments_lexer": "ipython3",
   "version": "3.10.2"
  },
  "orig_nbformat": 4
 },
 "nbformat": 4,
 "nbformat_minor": 2
}
